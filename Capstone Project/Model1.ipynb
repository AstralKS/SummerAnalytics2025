{
 "cells": [
  {
   "cell_type": "code",
   "execution_count": null,
   "id": "initial_id",
   "metadata": {
    "collapsed": true
   },
   "outputs": [],
   "source": [
    "import pandas as pd \n",
    "import numpy as np\n",
    "import matplotlib.pyplot as plt\n",
    "\n",
    "# Read the dataset\n",
    "df = pd.read_csv('dataset.csv')"
   ]
  },
  {
   "cell_type": "code",
   "execution_count": 9,
   "id": "d78f33ed",
   "metadata": {},
   "outputs": [],
   "source": [
    "# Data preprocessing and target creation\n",
    "BASE_PRICE = 10.0\n",
    "df['occupancy_ratio'] = df['Occupancy'] / df['Capacity']\n",
    "\n",
    "# Create target variable using linear pricing formula\n",
    "alpha = 8.0\n",
    "queue_weight = 0.5\n",
    "df['target_price'] = BASE_PRICE + alpha * df['occupancy_ratio'] + queue_weight * df['QueueLength']"
   ]
  },
  {
   "cell_type": "code",
   "execution_count": null,
   "id": "88852496",
   "metadata": {},
   "outputs": [],
   "source": [
    "# Linear formula: price = base_price + alpha * occupancy_ratio + queue_length\n",
    "df['predicted_price'] = BASE_PRICE + alpha * df['occupancy_ratio'] + queue_weight * df['QueueLength']\n",
    "mae = np.mean(np.abs(df['predicted_price'] - df['target_price']))\n",
    "print(f\"Linear Formula Applied | MAE: {mae:.4f} | Avg Price: ${df['predicted_price'].mean():.2f}\")"
   ]
  },
  {
   "cell_type": "code",
   "execution_count": null,
   "id": "d2817842",
   "metadata": {},
   "outputs": [],
   "source": [
    "# Simple visualization of Linear Formula Results\n",
    "plt.figure(figsize=(10, 4))\n",
    "\n",
    "# Actual vs Predicted\n",
    "plt.subplot(1, 2, 1)\n",
    "plt.scatter(df['target_price'], df['predicted_price'], alpha=0.6, color='blue')\n",
    "plt.plot([df['target_price'].min(), df['target_price'].max()], \n",
    "         [df['target_price'].min(), df['target_price'].max()], 'r--', lw=2)\n",
    "plt.xlabel('Target Price')\n",
    "plt.ylabel('Predicted Price')\n",
    "plt.title('Target vs Linear Formula Predicted Price')\n",
    "plt.grid(True, alpha=0.3)\n",
    "\n",
    "# Price vs Occupancy\n",
    "plt.subplot(1, 2, 2)\n",
    "plt.scatter(df['occupancy_ratio'], df['predicted_price'], alpha=0.6, label='Linear Formula', color='blue')\n",
    "plt.scatter(df['occupancy_ratio'], df['target_price'], alpha=0.4, label='Target', color='orange')\n",
    "plt.xlabel('Occupancy Ratio')\n",
    "plt.ylabel('Price')\n",
    "plt.title('Price vs Occupancy Ratio')\n",
    "plt.legend()\n",
    "plt.grid(True, alpha=0.3)\n",
    "\n",
    "plt.tight_layout()\n",
    "plt.show()"
   ]
  }
 ],
 "metadata": {
  "kernelspec": {
   "display_name": "base",
   "language": "python",
   "name": "python3"
  },
  "language_info": {
   "codemirror_mode": {
    "name": "ipython",
    "version": 3
   },
   "file_extension": ".py",
   "mimetype": "text/x-python",
   "name": "python",
   "nbconvert_exporter": "python",
   "pygments_lexer": "ipython3",
   "version": "3.12.7"
  }
 },
 "nbformat": 4,
 "nbformat_minor": 5
}
